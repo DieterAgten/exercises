{
 "cells": [
  {
   "cell_type": "code",
   "execution_count": 6,
   "metadata": {},
   "outputs": [
    {
     "name": "stdout",
     "output_type": "stream",
     "text": [
      "      Name  Age      City  Salary\n",
      "0    Alice   25    London   60000\n",
      "1      Bob   30  New York   75000\n",
      "2  Charlie   35     Paris   80000\n",
      "3    David   28     Tokyo   70000\n",
      "4     Emma   32    Sydney   65000\n",
      "\n",
      "    Name  Salary\n",
      "3  David   70000\n",
      "4   Emma   65000\n",
      "\n",
      "      Name  Age      City  Salary\n",
      "1      Bob   30  New York   75000\n",
      "2  Charlie   35     Paris   80000\n",
      "4     Emma   32    Sydney   65000\n",
      "\n"
     ]
    }
   ],
   "source": [
    "import pandas as pd\n",
    "\n",
    "# Dataframe aanmaken\n",
    "data = {\n",
    "    'Name': ['Alice', 'Bob', 'Charlie', 'David', 'Emma'],\n",
    "    'Age': [25, 30, 35, 28, 32],\n",
    "    'City': ['London', 'New York', 'Paris', 'Tokyo', 'Sydney'],\n",
    "    'Salary': [60000, 75000, 80000, 70000, 65000]\n",
    "}\n",
    "\n",
    "employees = pd.DataFrame(data)\n",
    "print(employees)\n",
    "print()\n",
    "\n",
    "# Laatste 2 rijen van kolommen Name & Salary\n",
    "print(employees.loc[3:4, [\"Name\", \"Salary\"]])\n",
    "print()\n",
    "\n",
    "# Employees ouder dan 30 jaar\n",
    "print(employees[employees[\"Age\"] >= 30])\n",
    "print()"
   ]
  }
 ],
 "metadata": {
  "kernelspec": {
   "display_name": "Python 3",
   "language": "python",
   "name": "python3"
  },
  "language_info": {
   "codemirror_mode": {
    "name": "ipython",
    "version": 3
   },
   "file_extension": ".py",
   "mimetype": "text/x-python",
   "name": "python",
   "nbconvert_exporter": "python",
   "pygments_lexer": "ipython3",
   "version": "3.12.6"
  }
 },
 "nbformat": 4,
 "nbformat_minor": 2
}
